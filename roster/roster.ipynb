{
 "cells": [
  {
   "cell_type": "code",
   "execution_count": 8,
   "metadata": {},
   "outputs": [
    {
     "name": "stdout",
     "output_type": "stream",
     "text": [
      "No solution found.\n"
     ]
    }
   ],
   "source": [
    "from ortools.linear_solver import pywraplp\n",
    "import pandas as pd\n",
    "\n",
    "# Constants\n",
    "num_people = 6\n",
    "num_shifts = 3  # Morning, afternoon, evening\n",
    "num_days = 365 + ((num_people - 1) * 8)  # Adding predating days\n",
    "shift_pattern = [0, 0, 1, 1, 2, 2] + [-1, -1, -1, -1]  # Morning, morning, afternoon, afternoon, evening, evening, off, off, off, off\n",
    "pattern_len = len(shift_pattern)\n",
    "shift_names = [\"Morning\", \"Afternoon\", \"Evening\"]\n",
    "\n",
    "# Initialize the MIP solver with the CBC backend.\n",
    "solver = pywraplp.Solver.CreateSolver('CBC')\n",
    "\n",
    "# Decision variables\n",
    "# X[i][j][k] = 1 means person i works on day j during shift k\n",
    "X = [[[solver.IntVar(0, 1, f\"person_{i}_day_{j}_shift_{k}\")\n",
    "       for k in range(num_shifts)]\n",
    "      for j in range(num_days)]\n",
    "     for i in range(num_people)]\n",
    "\n",
    "# Constraints\n",
    "# Each shift on each day is assigned to exactly one person\n",
    "for j in range(num_days):\n",
    "    for k in range(num_shifts):\n",
    "        solver.Add(solver.Sum(X[i][j][k] for i in range(num_people)) == 1)\n",
    "\n",
    "# Each person follows the shift pattern\n",
    "for i in range(num_people):\n",
    "    for j in range(num_days - pattern_len):\n",
    "        for k in range(pattern_len):\n",
    "            if shift_pattern[k] != -1:\n",
    "                solver.Add(X[i][j+k][shift_pattern[k]] == 1)\n",
    "            else:\n",
    "                solver.Add(solver.Sum(X[i][j+k][s] for s in range(num_shifts)) == 0)\n",
    "\n",
    "# Solve the problem\n",
    "status = solver.Solve()\n",
    "print (\"Status:\", status)\n",
    "\n",
    "# Check if a solution was found\n",
    "if status == pywraplp.Solver.OPTIMAL or status == pywraplp.Solver.FEASIBLE:\n",
    "    # Create a DataFrame to store the schedule\n",
    "    roster = pd.DataFrame()\n",
    "\n",
    "    for i in range(num_people):\n",
    "        for j in range(num_days):\n",
    "            for k in range(num_shifts):\n",
    "                if X[i][j][k].solution_value() == 1:\n",
    "                    # Only include days after the predating period\n",
    "                    if j >= (num_people - 1) * 8:\n",
    "                        roster = roster.append({\"Person\": i+1,\n",
    "                                                \"Day\": j - ((num_people - 1) * 8) + 1,\n",
    "                                                \"Shift\": shift_names[k]}, ignore_index=True)\n",
    "\n",
    "    # Sort the roster by day and shift\n",
    "    roster.sort_values(by=[\"Day\", \"Shift\"], inplace=True)\n",
    "    roster.reset_index(drop=True, inplace=True)\n",
    "else:\n",
    "    roster = \"No solution found.\"\n",
    "\n",
    "print(roster)\n"
   ]
  }
 ],
 "metadata": {
  "kernelspec": {
   "display_name": "Python 3",
   "language": "python",
   "name": "python3"
  },
  "language_info": {
   "codemirror_mode": {
    "name": "ipython",
    "version": 3
   },
   "file_extension": ".py",
   "mimetype": "text/x-python",
   "name": "python",
   "nbconvert_exporter": "python",
   "pygments_lexer": "ipython3",
   "version": "3.10.12"
  },
  "orig_nbformat": 4
 },
 "nbformat": 4,
 "nbformat_minor": 2
}
